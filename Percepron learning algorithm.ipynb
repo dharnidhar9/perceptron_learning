{
 "cells": [
  {
   "cell_type": "code",
   "execution_count": 4,
   "metadata": {},
   "outputs": [
    {
     "name": "stdout",
     "output_type": "stream",
     "text": [
      "Training the perceptron\n",
      "+++++++++++++++++++++++++++++\n",
      "Epoch# 1\n",
      "Weight after epoch#: 1\n",
      "[1 1]\n",
      "Bias after epoch#: 1\n",
      "Epoch# 2\n",
      "Weight after epoch#: 2\n",
      "[1 1]\n",
      "Bias after epoch#: 1\n",
      "Epoch# 3\n",
      "Weight after epoch#: 3\n",
      "[1 1]\n",
      "Bias after epoch#: 1\n",
      "Epoch# 4\n",
      "Weight after epoch#: 4\n",
      "[1 1]\n",
      "Bias after epoch#: 1\n",
      "Predicted output: -1\n"
     ]
    }
   ],
   "source": [
    "import numpy as np\n",
    "b=0\n",
    "alpha=1\n",
    "\n",
    "def perceptron_train(x,t,w):\n",
    "    global b\n",
    "    for i in range(0,len(x)):\n",
    "        v=sum(x[i]*w)+b\n",
    "        y=hard_limiter(v)\n",
    "        dw=alpha*(t[i]-y)*x[i]\n",
    "        w=np.add(w,dw)\n",
    "        db=alpha*(t[i]-y)\n",
    "        b=b+db\n",
    "        return w\n",
    "def perceptron_predict(x,w):\n",
    "    z=x*w\n",
    "    v=sum(z)+b\n",
    "    y=hard_limiter(v)\n",
    "    return y\n",
    "\n",
    "def hard_limiter(x):\n",
    "    if(x>0):\n",
    "        return 1\n",
    "    elif(x<0):\n",
    "        return -1\n",
    "    else:\n",
    "        return 0\n",
    "trainx=np.array([[1,1],[1,-1],[-1,1],[-1,-1]])\n",
    "trainy=np.array([1,1,-1,-1])\n",
    "testx=np.array([-1,-1])\n",
    "wt=np.array([0,0])\n",
    "print(\"Training the perceptron\")\n",
    "print(\"+++++++++++++++++++++++++++++\")\n",
    "for i in range(1,5):\n",
    "    print(\"Epoch#\",i)\n",
    "    wt=perceptron_train(trainx,trainy,wt)\n",
    "    print(\"Weight after epoch#:\",i)\t\n",
    "    print(wt)\n",
    "    print(\"Bias after epoch#:\",b)\n",
    "y=perceptron_predict(testx,wt)\n",
    "print(\"Predicted output:\",y)"
   ]
  }
 ],
 "metadata": {
  "interpreter": {
   "hash": "ee5cc6fef2d70a7e71ee3826687cbd150f18158e0b1eef11d4f4f92bb920e304"
  },
  "kernelspec": {
   "display_name": "Python 3.9.6 64-bit",
   "language": "python",
   "name": "python3"
  },
  "language_info": {
   "codemirror_mode": {
    "name": "ipython",
    "version": 3
   },
   "file_extension": ".py",
   "mimetype": "text/x-python",
   "name": "python",
   "nbconvert_exporter": "python",
   "pygments_lexer": "ipython3",
   "version": "3.9.6"
  },
  "orig_nbformat": 4
 },
 "nbformat": 4,
 "nbformat_minor": 2
}
